{
 "cells": [
  {
   "cell_type": "code",
   "execution_count": null,
   "id": "d11a1dca",
   "metadata": {},
   "outputs": [],
   "source": [
    "# Import Libraries"
   ]
  },
  {
   "cell_type": "code",
   "execution_count": null,
   "id": "259fc071",
   "metadata": {},
   "outputs": [],
   "source": [
    "from train import train"
   ]
  },
  {
   "cell_type": "code",
   "execution_count": null,
   "id": "6c08dfc3",
   "metadata": {},
   "outputs": [],
   "source": [
    "_train=train(\"./data\")"
   ]
  },
  {
   "cell_type": "code",
   "execution_count": null,
   "id": "bef99346",
   "metadata": {},
   "outputs": [],
   "source": [
    "models=[\"ghostnet_050\",\n",
    "\"seresnet18\",\n",
    "\"rednet26t\",\n",
    "\"vovnet39a\",\n",
    "\"inception_v4\",\n",
    "\"darknet53\"]"
   ]
  },
  {
   "cell_type": "code",
   "execution_count": null,
   "id": "531b6acc",
   "metadata": {},
   "outputs": [],
   "source": [
    "for model in models:\n",
    "    _train.train_model(model)"
   ]
  },
  {
   "cell_type": "code",
   "execution_count": null,
   "id": "2ee7a602",
   "metadata": {},
   "outputs": [],
   "source": []
  }
 ],
 "metadata": {
  "kernelspec": {
   "display_name": "Python 3 (ipykernel)",
   "language": "python",
   "name": "python3"
  },
  "language_info": {
   "codemirror_mode": {
    "name": "ipython",
    "version": 3
   },
   "file_extension": ".py",
   "mimetype": "text/x-python",
   "name": "python",
   "nbconvert_exporter": "python",
   "pygments_lexer": "ipython3",
   "version": "3.7.12"
  }
 },
 "nbformat": 4,
 "nbformat_minor": 5
}
